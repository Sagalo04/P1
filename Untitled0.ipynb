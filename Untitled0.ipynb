{
  "nbformat": 4,
  "nbformat_minor": 0,
  "metadata": {
    "colab": {
      "name": "Untitled0.ipynb",
      "version": "0.3.2",
      "provenance": [],
      "include_colab_link": true
    },
    "kernelspec": {
      "name": "python3",
      "display_name": "Python 3"
    }
  },
  "cells": [
    {
      "cell_type": "markdown",
      "metadata": {
        "id": "view-in-github",
        "colab_type": "text"
      },
      "source": [
        "<a href=\"https://colab.research.google.com/github/Sagalo04/P1/blob/master/Untitled0.ipynb\" target=\"_parent\"><img src=\"https://colab.research.google.com/assets/colab-badge.svg\" alt=\"Open In Colab\"/></a>"
      ]
    },
    {
      "cell_type": "code",
      "metadata": {
        "id": "Cnb-o6E9TKG5",
        "colab_type": "code",
        "colab": {}
      },
      "source": [
        "from google.colab import drive\n",
        "drive.mount('/content/drive')"
      ],
      "execution_count": 0,
      "outputs": []
    },
    {
      "cell_type": "code",
      "metadata": {
        "id": "hqmmVDXrTUue",
        "colab_type": "code",
        "colab": {}
      },
      "source": [
        "import numpy as np\n",
        "import matplotlib.pyplot as plt\n",
        "import cv2\n",
        "import os\n",
        "\n",
        "path='/content/drive/My Drive/PDI/Interpolation/'\n",
        "os.chdir(path)\n",
        "!pwd\n",
        "# graficar imagenes estadisticas en el notebook\n",
        "\n",
        "%matplotlib inline"
      ],
      "execution_count": 0,
      "outputs": []
    },
    {
      "cell_type": "code",
      "metadata": {
        "id": "KBuOESK-TWBM",
        "colab_type": "code",
        "colab": {}
      },
      "source": [
        "def displayGray3(a,b,c,title1 = \"Original\", title2=\"Edited\", title3=\"Edited\"):\n",
        "  plt.figure(figsize=(3,3))\n",
        "  plt.subplot(131), plt.imshow(a,cmap='gray'), plt.title(title1)\n",
        "  plt.xticks([]), plt.yticks([])\n",
        "  plt.subplot(132), plt.imshow(b,cmap='gray'), plt.title(title2)\n",
        "  plt.xticks([]), plt.yticks([])\n",
        "  plt.subplot(133), plt.imshow(c,cmap='gray'), plt.title(title3)\n",
        "  plt.xticks([]), plt.yticks([])\n",
        "  plt.show()\n",
        "  \n",
        "def displayGray2(a,b,title1 = \"Original\", title2=\"Edited\"):\n",
        "  plt.figure(figsize=(10,10))\n",
        "  plt.subplot(121), plt.imshow(a,cmap='gray'), plt.title(title1)\n",
        "  plt.xticks([]), plt.yticks([])\n",
        "  plt.subplot(122), plt.imshow(b,cmap='gray'), plt.title(title2)\n",
        "  plt.xticks([]), plt.yticks([])\n",
        "  plt.show()\n",
        "  \n",
        "def displayColor3(a,b,c,title1 = \"Original\", title2=\"Edited\", title3=\"Edited\"):\n",
        "  plt.figure(figsize=(10,10))\n",
        "  plt.subplot(131), plt.imshow(a), plt.title(title1)\n",
        "  plt.xticks([]), plt.yticks([])\n",
        "  plt.subplot(132), plt.imshow(b), plt.title(title2)\n",
        "  plt.xticks([]), plt.yticks([])\n",
        "  plt.subplot(133), plt.imshow(c), plt.title(title3)\n",
        "  plt.xticks([]), plt.yticks([])\n",
        "  plt.show()\n",
        "  \n",
        "def displayColor2(a,b,title1 = \"Original\", title2=\"Edited\"):\n",
        "  plt.figure(figsize=(10,10))\n",
        "  plt.subplot(121), plt.imshow(a), plt.title(title1)\n",
        "  plt.xticks([]), plt.yticks([])\n",
        "  plt.subplot(122), plt.imshow(b), plt.title(title2)\n",
        "  plt.xticks([]), plt.yticks([])\n",
        "  plt.show()\n",
        "  \n",
        "def readRGB(imgPath):\n",
        "  img=cv2.imread(imgPath)\n",
        "  img=cv2.cvtColor(img,cv2.COLOR_BGR2RGB)\n",
        "  return img"
      ],
      "execution_count": 0,
      "outputs": []
    },
    {
      "cell_type": "code",
      "metadata": {
        "id": "o13mHMqbTYPU",
        "colab_type": "code",
        "colab": {}
      },
      "source": [
        "##Interpolación Nearest Neighbour\n",
        "\n",
        "imgA = readRGB('apple20x22.jpg')\n",
        "imgM = readRGB('ico.jpg')\n",
        "near_imgA = cv2.resize(imgA,None,fx = 5,fy=5,interpolation = cv2.INTER_NEAREST)\n",
        "near_imgM = cv2.resize(imgM,None,fx = 5,fy=5,interpolation = cv2.INTER_NEAREST)\n",
        "displayColor2(near_imgA,near_imgM,'apple','señora')"
      ],
      "execution_count": 0,
      "outputs": []
    },
    {
      "cell_type": "code",
      "metadata": {
        "id": "PvnMQZoQTasE",
        "colab_type": "code",
        "colab": {}
      },
      "source": [
        "##Bilinear\n",
        "\n",
        "imgA = readRGB('apple20x22.jpg')\n",
        "imgM = readRGB('ico.jpg')\n",
        "bili_imgA = cv2.resize(imgA,None,fx = 5,fy=5,interpolation = cv2.INTER_LINEAR)\n",
        "bili_imgM = cv2.resize(imgM,None,fx = 5,fy=5,interpolation = cv2.INTER_LINEAR)\n",
        "displayColor2(near_imgA,near_imgM,'apple','señora')"
      ],
      "execution_count": 0,
      "outputs": []
    },
    {
      "cell_type": "code",
      "metadata": {
        "id": "p5_jbzhMTcEc",
        "colab_type": "code",
        "colab": {}
      },
      "source": [
        "##Buvubiv\n",
        "\n",
        "imgA = readRGB('apple20x22.jpg')\n",
        "imgM = readRGB('ico.jpg')\n",
        "bicu_imgA = cv2.resize(imgA,None,fx = 5,fy=5,interpolation = cv2.INTER_CUBIC)\n",
        "bicu_imgM = cv2.resize(imgM,None,fx = 5,fy=5,interpolation = cv2.INTER_CUBIC)\n",
        "displayColor2(near_imgA,near_imgM,'apple','señora')"
      ],
      "execution_count": 0,
      "outputs": []
    },
    {
      "cell_type": "code",
      "metadata": {
        "id": "-7h_E-C8TfqM",
        "colab_type": "code",
        "colab": {}
      },
      "source": [
        "displayColor3(near_imgA,bili_imgA,bicu_imgA,'Nearest Neighbour','BiLinear','BiCubic')\n",
        "displayColor3(near_imgM,bili_imgM,bicu_imgM,'Nearest Neighbour','BiLinear','BiCubic')"
      ],
      "execution_count": 0,
      "outputs": []
    },
    {
      "cell_type": "code",
      "metadata": {
        "id": "d9w93uK3TioY",
        "colab_type": "code",
        "colab": {}
      },
      "source": [
        "methods = [None, 'none','nearest','bilinear','bicubic','spline16',\n",
        "          'spline36','hanning','hamming','hermite','kaiser','quadric',\n",
        "           'catrom','gaussian','bessel','mitchell','sinc','lanczos']\n",
        "\n",
        "grid=imgA\n",
        "\n",
        "fig,axes = plt.subplots(3, 6, figsize=(12,6),\n",
        "                       subplot_kw={'xticks': [], 'yticks': []})\n",
        "\n",
        "fig.subplots_adjust(hspace=0.3,wspace=0.05)\n",
        "\n",
        "for ax, interp_method in zip(axes.flat,methods):\n",
        "    ax.imshow(grid,interpolation=interp_method)\n",
        "    ax.set_title(interp_method)\n",
        "  \n",
        "plt.show()"
      ],
      "execution_count": 0,
      "outputs": []
    },
    {
      "cell_type": "code",
      "metadata": {
        "id": "JvkbAUwATkJY",
        "colab_type": "code",
        "colab": {}
      },
      "source": [
        "methods = [None, 'none','nearest','bilinear','bicubic','spline16',\n",
        "          'spline36','hanning','hamming','hermite','kaiser','quadric',\n",
        "           'catrom','gaussian','bessel','mitchell','sinc','lanczos']\n",
        "\n",
        "grid=np.random.rand(4,4)\n",
        "#grid=imgA\n",
        "\n",
        "fig,axes = plt.subplots(3, 6, figsize=(12,6),\n",
        "                       subplot_kw={'xticks': [], 'yticks': []})\n",
        "\n",
        "fig.subplots_adjust(hspace=0.3,wspace=0.05)\n",
        "\n",
        "for ax, interp_method in zip(axes.flat,methods):\n",
        "    ax.imshow(grid,interpolation=interp_method)\n",
        "    ax.set_title(interp_method)\n",
        "  \n",
        "plt.show()"
      ],
      "execution_count": 0,
      "outputs": []
    },
    {
      "cell_type": "code",
      "metadata": {
        "id": "KDcRHuMrTm3Q",
        "colab_type": "code",
        "colab": {}
      },
      "source": [
        "#Negativo Color\n",
        "\n",
        "from PIL import Image\n",
        "\n",
        "foto = Image.open('playa.jpg')\n",
        "\n",
        "datos = list(foto.getdata())\n",
        "\n",
        "datos_invertidos = [(255-datos[x][0],255-datos[x][1],255-datos[x][2]) for x in range(len(datos)) ]\n",
        "                     \n",
        "imagen_invertida = Image.new('RGB',foto.size)\n",
        "                     \n",
        "imagen_invertida.putdata(datos_invertidos)\n",
        "                     \n",
        "#imagen_invertida.save('playa2.jpg')\n",
        "                     \n",
        "plt.imshow(np.asarray(imagen_invertida))\n",
        "                "
      ],
      "execution_count": 0,
      "outputs": []
    },
    {
      "cell_type": "code",
      "metadata": {
        "id": "IW3bY0-NTpzQ",
        "colab_type": "code",
        "colab": {}
      },
      "source": [
        "#Negativo grises 1\n",
        "from PIL import Image\n",
        "\n",
        "foto = Image.open('ojo.jpg')\n",
        "\n",
        "datos = foto.getdata()\n",
        "\n",
        "datos_invertidos = [255 - x for x in datos ]\n",
        "                     \n",
        "imagen_invertida = Image.new('L',foto.size)\n",
        "                     \n",
        "imagen_invertida.putdata(datos_invertidos)\n",
        "                     \n",
        "#imagen_invertida.save('playa2.jpg')\n",
        "                     \n",
        "plt.imshow(np.asarray(imagen_invertida),cmap='gray')"
      ],
      "execution_count": 0,
      "outputs": []
    },
    {
      "cell_type": "code",
      "metadata": {
        "id": "A7yfRN_FTraY",
        "colab_type": "code",
        "colab": {}
      },
      "source": [
        "#Negativo grises 2\n",
        "def negative(l):\n",
        "  #Cargar imagen\n",
        "  img = cv2.imread('ojo.jpg',cv2.IMREAD_GRAYSCALE)\n",
        "  rows,columns = img.shape\n",
        "  img2=np.zeros((rows,columns),dtype=np.uint8)\n",
        "  for x in range(rows):\n",
        "    for y in range(columns):\n",
        "      img2[x,y]=(l-1)-img[x,y]\n",
        "      \n",
        "  displayGray2(img,img2,'original','Negativo')\n",
        "  return\n",
        "\n",
        "negative(256)"
      ],
      "execution_count": 0,
      "outputs": []
    },
    {
      "cell_type": "code",
      "metadata": {
        "id": "gecrqLkqTss4",
        "colab_type": "code",
        "colab": {}
      },
      "source": [
        "#Negativo grises 3\n",
        "import cv2\n",
        "import numpy as np\n",
        "#load\n",
        "img = cv2.imread('ojo.jpg')\n",
        "#apply log Transform\n",
        "img_log=(np.log(img+1)/(np.log(1+np.max(img))))*255\n",
        "#Specify the data type\n",
        "img_log=np.array(img_log,dtype=np.uint8)\n",
        "#display\n",
        "displayGray2(img,img_log,'original','log image')"
      ],
      "execution_count": 0,
      "outputs": []
    },
    {
      "cell_type": "markdown",
      "metadata": {
        "id": "uFmc7mIeUfvQ",
        "colab_type": "text"
      },
      "source": [
        "asdada"
      ]
    },
    {
      "cell_type": "code",
      "metadata": {
        "id": "BbUBHPQGUYiN",
        "colab_type": "code",
        "colab": {}
      },
      "source": [
        "# leer una imagen BGR\n",
        "# principle of least astonishment (surprise)\n",
        "img_BGR=cv2.imread('rub07.jpg',cv2.IMREAD_COLOR)\n",
        "#b,g,r = cv2.split(img_BGR)\n",
        "\n",
        "b = img_BGR[:,:,0]\n",
        "g = img_BGR[:,:,1]\n",
        "r = img_BGR[:,:,2]\n",
        "\n",
        "display4(img_BGR,b,g,r,\"BGR\",\"b\",\"g\",\"r\")"
      ],
      "execution_count": 0,
      "outputs": []
    },
    {
      "cell_type": "code",
      "metadata": {
        "id": "R_BJRFslUfKI",
        "colab_type": "code",
        "colab": {}
      },
      "source": [
        "count=2\n",
        "plt.figure(figsize=(12,4))\n",
        "plt.subplot(1,4,1), plt.imshow(img_BGR/255.0), plt.title(\"original BGR\")\n",
        "plt.axis(\"off\")\n",
        "for i, lab in enumerate([\"B\",\"G\",\"R\"]):\n",
        "  crgb = np.zeros(img_BGR.shape)\n",
        "  crgb[:,:,i] = img_BGR[:,:,i]\n",
        "  plt.subplot(1,4,count), plt.imshow(crgb/255.0), plt.title(lab)\n",
        "  plt.axis(\"off\")\n",
        "  count +=1\n",
        "\n",
        "plt.show"
      ],
      "execution_count": 0,
      "outputs": []
    },
    {
      "cell_type": "code",
      "metadata": {
        "id": "1oMSmCibUgpA",
        "colab_type": "code",
        "colab": {}
      },
      "source": [
        "# pasar a rgb\n",
        "\n",
        "img_RGB=cv2.cvtColor(img_BGR,cv2.COLOR_BGR2RGB)\n",
        "r,g,b = cv2.split(img_RGB)\n",
        "\n",
        "display4(img_RGB,r,g,b,\"BGR\",\"r\",\"g\",\"b\")"
      ],
      "execution_count": 0,
      "outputs": []
    },
    {
      "cell_type": "code",
      "metadata": {
        "id": "hjiI_94qUiio",
        "colab_type": "code",
        "colab": {}
      },
      "source": [
        "count=2\n",
        "plt.figure(figsize=(12,4))\n",
        "plt.subplot(1,4,1), plt.imshow(img_RGB/255.0), plt.title(\"original RGB\")\n",
        "plt.axis(\"off\")\n",
        "for i, lab in enumerate([\"R\",\"G\",\"B\"]):\n",
        "  crgb = np.zeros(img_BGR.shape)\n",
        "  crgb[:,:,i] = img_RGB[:,:,i]\n",
        "  plt.subplot(1,4,count), plt.imshow(crgb/255.0), plt.title(lab)\n",
        "  plt.axis(\"off\")\n",
        "  count +=1\n",
        "\n",
        "plt.show"
      ],
      "execution_count": 0,
      "outputs": []
    },
    {
      "cell_type": "code",
      "metadata": {
        "id": "qtLFVNjeUkCg",
        "colab_type": "code",
        "colab": {}
      },
      "source": [
        "# pasar a LAB\n",
        "\n",
        "img_LAB=cv2.cvtColor(img_BGR,cv2.COLOR_BGR2LAB)\n",
        "L,A,B = cv2.split(img_LAB)\n",
        "\n",
        "display4(img_LAB,L,A,B,\"LAB\",\"L\",\"A\",\"B\")"
      ],
      "execution_count": 0,
      "outputs": []
    },
    {
      "cell_type": "code",
      "metadata": {
        "id": "Ns3qqDRGUmPg",
        "colab_type": "code",
        "colab": {}
      },
      "source": [
        "# YCrCb\n",
        "img_YCrCb=cv2.cvtColor(img_BGR,cv2.COLOR_BGR2YCrCb)\n",
        "Y,Cr,Cb = cv2.split(img_YCrCb)\n",
        "\n",
        "display4(img_YCrCb,Y,Cr,Cb,\"YCrCb\",\"Y\",\"Cr\",\"Cb\")"
      ],
      "execution_count": 0,
      "outputs": []
    },
    {
      "cell_type": "code",
      "metadata": {
        "id": "ul_8enpMUrwA",
        "colab_type": "code",
        "colab": {}
      },
      "source": [
        "#Hsv\n",
        "img_HSV=cv2.cvtColor(img_BGR,cv2.COLOR_BGR2HSV)\n",
        "H,S,V = cv2.split(img_HSV)\n",
        "\n",
        "display4(img_HSV,H,S,V,\"HSV\",\"H\",\"S\",\"V\")"
      ],
      "execution_count": 0,
      "outputs": []
    },
    {
      "cell_type": "code",
      "metadata": {
        "id": "a1-jwiQGVW66",
        "colab_type": "code",
        "colab": {}
      },
      "source": [
        "def estadisticas(img):\n",
        "  \n",
        "  img_size=img.shape\n",
        "  \n",
        "  if len(img_size)>2:\n",
        "    print(\"image channels\", img_size[2])\n",
        "  else:\n",
        "    print(\"image channels\", 1)\n",
        "    \n",
        "  print(\"image W\",img_size[0])\n",
        "  print(\"image H\",img_size[1])\n",
        "  print(\"min value\",img.min())\n",
        "  print(\"max value\",img.max())\n",
        "  print(\"prom\",img.mean())\n",
        "  print(\"type\",img.dtype)\n",
        "\n",
        "estadisticas(img_RGB)"
      ],
      "execution_count": 0,
      "outputs": []
    },
    {
      "cell_type": "code",
      "metadata": {
        "id": "wbzJjA7wVakA",
        "colab_type": "code",
        "colab": {}
      },
      "source": [
        "images = []\n",
        "IMAGE_DIRECTORY='/content/drive/My Drive/PDI/Ejemplos clase/'\n",
        "\n",
        "def get_image(image_path):\n",
        "  image = cv2.imread(image_path)\n",
        "  image = cv2.cvtColor(image, cv2.COLOR_BGR2RGB)\n",
        "  return image\n",
        "\n",
        "for file in os.listdir(IMAGE_DIRECTORY):\n",
        "  if not file.startswith('.'):\n",
        "    images.append(get_image(os.path.join(IMAGE_DIRECTORY, file )))\n",
        "    \n",
        "plt.figure(figsize=(30,20))\n",
        "for i in range(len(images)):\n",
        "  plt.subplot(1, len(images),i+1)\n",
        "  plt.xticks([]), plt.yticks([])\n",
        "  plt.imshow(images[i])\n",
        "  #estadisticas(images[i])"
      ],
      "execution_count": 0,
      "outputs": []
    }
  ]
}